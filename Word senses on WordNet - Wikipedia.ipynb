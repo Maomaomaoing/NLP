{
 "cells": [
  {
   "cell_type": "code",
   "execution_count": 1,
   "metadata": {},
   "outputs": [],
   "source": [
    "# pip install wikipedia\n",
    "# nltk.download(\"wordnet\")\n",
    "import os\n",
    "import wikipedia\n",
    "import nltk\n",
    "from collections import defaultdict\n",
    "from nltk.corpus import wordnet as wn\n",
    "# downlaod wordnet 3.0\n",
    "#nltk.download(\"wordnet\")"
   ]
  },
  {
   "cell_type": "markdown",
   "metadata": {},
   "source": [
    "# 9 words 54 synsets to find wiki pages, use pos=\"n\" only."
   ]
  },
  {
   "cell_type": "code",
   "execution_count": 2,
   "metadata": {},
   "outputs": [
    {
     "name": "stdout",
     "output_type": "stream",
     "text": [
      "The amount of target synsets :54\n"
     ]
    }
   ],
   "source": [
    "# Load synsets\n",
    "target_synsets = []\n",
    "for line in open(\"lab2_input.txt\"):\n",
    "    word, synset, offset = line.strip().split(\"\\t\")\n",
    "    target_synsets.append((word, wn.synset_from_pos_and_offset('n', int(offset))))\n",
    "            \n",
    "print(\"The amount of target synsets :%d\" %(len(target_synsets)))"
   ]
  },
  {
   "cell_type": "markdown",
   "metadata": {},
   "source": [
    "# An example of wordnet synset"
   ]
  },
  {
   "cell_type": "code",
   "execution_count": 3,
   "metadata": {},
   "outputs": [
    {
     "name": "stdout",
     "output_type": "stream",
     "text": [
      "Synset('plant.n.01')\n",
      "buildings for carrying on industrial labor\n",
      "they built a large plant to manufacture automobiles\n",
      "[Lemma('plant.n.01.plant'), Lemma('plant.n.01.works'), Lemma('plant.n.01.industrial_plant')]\n",
      "######################################################################\n",
      "Synset('plant.n.02')\n",
      "(botany) a living organism lacking the power of locomotion\n",
      "No example\n",
      "[Lemma('plant.n.02.plant'), Lemma('plant.n.02.flora'), Lemma('plant.n.02.plant_life')]\n",
      "######################################################################\n",
      "Synset('plant.n.03')\n",
      "an actor situated in the audience whose acting is rehearsed but seems spontaneous to the audience\n",
      "No example\n",
      "[Lemma('plant.n.03.plant')]\n",
      "######################################################################\n",
      "Synset('plant.n.04')\n",
      "something planted secretly for discovery by another\n",
      "the police used a plant to trick the thieves\n",
      "[Lemma('plant.n.04.plant')]\n",
      "######################################################################\n"
     ]
    }
   ],
   "source": [
    "for synset in wn.synsets('plant', pos='n'):\n",
    "    print(synset)\n",
    "    print(synset.definition())\n",
    "    examples = synset.examples()\n",
    "    if len(examples) > 0:\n",
    "        print(examples[0])\n",
    "    else:\n",
    "        print(\"No example\")\n",
    "    print(synset.lemmas())\n",
    "    print(\"#\"*70)\n"
   ]
  },
  {
   "cell_type": "code",
   "execution_count": 4,
   "metadata": {},
   "outputs": [
    {
     "name": "stdout",
     "output_type": "stream",
     "text": [
      "https://en.wikipedia.org/wiki/Plant\n",
      "https://en.wikipedia.org/wiki/Plant\n"
     ]
    }
   ],
   "source": [
    "#output wiki page\n",
    "page = wikipedia.page(\"plant\")\n",
    "print(page.url)\n",
    "\n",
    "#output wiki page by id in ec.link.txt\n",
    "page = wikipedia.page(title=None, pageid=19828134)\n",
    "print(page.url)\n",
    "\n",
    "#reference https://wikipedia.readthedocs.io/en/latest/code.html"
   ]
  }
 ],
 "metadata": {
  "kernelspec": {
   "display_name": "Python 3",
   "language": "python",
   "name": "python3"
  },
  "language_info": {
   "codemirror_mode": {
    "name": "ipython",
    "version": 3
   },
   "file_extension": ".py",
   "mimetype": "text/x-python",
   "name": "python",
   "nbconvert_exporter": "python",
   "pygments_lexer": "ipython3",
   "version": "3.6.5"
  }
 },
 "nbformat": 4,
 "nbformat_minor": 2
}
